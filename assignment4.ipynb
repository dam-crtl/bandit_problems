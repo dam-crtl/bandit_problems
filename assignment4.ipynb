{
 "cells": [
  {
   "cell_type": "markdown",
   "id": "c30d1358-7692-46f8-aab1-897676f2719f",
   "metadata": {},
   "source": [
    "# 課題4"
   ]
  },
  {
   "cell_type": "markdown",
   "id": "31983d74-cf84-4882-9d43-d9c4d54458f4",
   "metadata": {},
   "source": [
    "最初に実装に使う変数の設定等を行う。"
   ]
  },
  {
   "cell_type": "code",
   "execution_count": null,
   "id": "a4fb6f1b-f598-4aa6-ac04-84a5343b5b1a",
   "metadata": {},
   "outputs": [],
   "source": [
    "T= 10000\n",
    "LinUCB_regret = []\n",
    "thompson_regret = []\n",
    "greedy_regret = []"
   ]
  },
  {
   "cell_type": "markdown",
   "id": "18799518-5e6e-4be8-a93b-b7c61be5eb2a",
   "metadata": {},
   "source": [
    "### LinUCB"
   ]
  },
  {
   "cell_type": "markdown",
   "id": "cdb3f67d-9052-4dd3-b0ae-d3ff382857d5",
   "metadata": {},
   "source": [
    "まずLinUCBを実装する。実装は以下のようになる。"
   ]
  },
  {
   "cell_type": "code",
   "execution_count": null,
   "id": "308d70dd-e4b9-4c15-97c3-cc4575f9665f",
   "metadata": {},
   "outputs": [],
   "source": []
  },
  {
   "cell_type": "markdown",
   "id": "c3e2e9b6-ce7d-4a6c-8f35-637e6a83e9c3",
   "metadata": {},
   "source": [
    "regretについて、反復回数を横軸、regretを縦軸にしたグラフは以下のようになる。"
   ]
  },
  {
   "cell_type": "code",
   "execution_count": null,
   "id": "3bb8cf86-02ff-4a72-9e33-07c4032211ba",
   "metadata": {},
   "outputs": [],
   "source": []
  },
  {
   "cell_type": "markdown",
   "id": "a7f5811c-2aaa-48b6-9721-4d78c9391f03",
   "metadata": {},
   "source": [
    "### トンプソンサンプリング"
   ]
  },
  {
   "cell_type": "markdown",
   "id": "81b6f87f-4893-4305-98e2-08b996188ed4",
   "metadata": {},
   "source": [
    "次にトンプソンサンプリングを実装する。実装は以下のようになる。"
   ]
  },
  {
   "cell_type": "code",
   "execution_count": null,
   "id": "20ffbd77-676a-4908-9117-b2f80964a0e8",
   "metadata": {},
   "outputs": [],
   "source": []
  },
  {
   "cell_type": "markdown",
   "id": "10481a85-7144-48dd-a895-ca32c3c1960b",
   "metadata": {},
   "source": [
    "regretについて、反復回数を横軸、regretを縦軸にしたグラフは以下のようになる。"
   ]
  },
  {
   "cell_type": "code",
   "execution_count": null,
   "id": "9e2802aa-1f21-451d-a48a-98c15c33bc77",
   "metadata": {},
   "outputs": [],
   "source": []
  },
  {
   "cell_type": "markdown",
   "id": "65ffaf29-5f0c-4b32-99c5-a3af95d0af7c",
   "metadata": {},
   "source": [
    "### 貪欲法"
   ]
  },
  {
   "cell_type": "markdown",
   "id": "300562e5-6011-4e7c-8d6b-555d23a848b6",
   "metadata": {},
   "source": [
    "最後に貪欲法を実装する。実装は以下のようになる。"
   ]
  },
  {
   "cell_type": "code",
   "execution_count": null,
   "id": "d605cc08-725a-4016-8742-257a1d8f6c2a",
   "metadata": {},
   "outputs": [],
   "source": []
  },
  {
   "cell_type": "markdown",
   "id": "5c49b828-dac8-442d-99dc-08b04ec5c0a2",
   "metadata": {},
   "source": [
    "regretについて、反復回数を横軸、regretを縦軸にしたグラフは以下のようになる。"
   ]
  },
  {
   "cell_type": "code",
   "execution_count": null,
   "id": "cac799ea-e942-45c1-8b7b-c5588fcae1bf",
   "metadata": {},
   "outputs": [],
   "source": []
  },
  {
   "cell_type": "markdown",
   "id": "f74629de-3282-48a5-9627-0150786a865e",
   "metadata": {},
   "source": [
    "### まとめ"
   ]
  },
  {
   "cell_type": "code",
   "execution_count": null,
   "id": "6d045517-df4b-47ce-9e8b-5589483b016b",
   "metadata": {},
   "outputs": [],
   "source": []
  }
 ],
 "metadata": {
  "kernelspec": {
   "display_name": "Python 3 (ipykernel)",
   "language": "python",
   "name": "python3"
  },
  "language_info": {
   "codemirror_mode": {
    "name": "ipython",
    "version": 3
   },
   "file_extension": ".py",
   "mimetype": "text/x-python",
   "name": "python",
   "nbconvert_exporter": "python",
   "pygments_lexer": "ipython3",
   "version": "3.9.12"
  }
 },
 "nbformat": 4,
 "nbformat_minor": 5
}
