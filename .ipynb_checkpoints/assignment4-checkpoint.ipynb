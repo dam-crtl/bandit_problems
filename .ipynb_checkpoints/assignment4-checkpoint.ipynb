{
 "cells": [
  {
   "cell_type": "markdown",
   "id": "c30d1358-7692-46f8-aab1-897676f2719f",
   "metadata": {
    "tags": []
   },
   "source": [
    "# 課題4"
   ]
  },
  {
   "cell_type": "markdown",
   "id": "31983d74-cf84-4882-9d43-d9c4d54458f4",
   "metadata": {},
   "source": [
    "この課題では与えられた問題において、LinUCBとトンプソンサンプリングを実装し、100回試行した後でregretの平均値について比較する。\n",
    "ここではregretの計算式として、最も良い報酬の期待値を出す行動を$i^{\\star}$としたとき、\n",
    "\\begin{align}\n",
    "\\text{regret} = (a_{i^{\\star}} - a_{j})^{\\top} \\theta^{\\star}\n",
    "\\end{align}\n",
    "となるようにした。最初に実装に使う変数の設定等を行う。"
   ]
  },
  {
   "cell_type": "code",
   "execution_count": 1,
   "id": "dbe28408-fb6a-4bfc-b45d-b142f49f844a",
   "metadata": {},
   "outputs": [],
   "source": [
    "import numpy as np\n",
    "import matplotlib.pyplot as plt\n",
    "\n",
    "np.random.seed(seed = 42)\n",
    "T = 10000\n",
    "LinUCB_regret = []\n",
    "thompson_regret = []\n",
    "a = np.array([[np.cos(i * np.pi / 4), np.sin(i * np.pi / 4)] \n",
    "              for i in range(1, 9)])\n",
    "theta_star = np.array([3, 1])"
   ]
  },
  {
   "cell_type": "code",
   "execution_count": 2,
   "id": "9f381135-2565-4f09-a1f3-50c147c0ca1b",
   "metadata": {},
   "outputs": [],
   "source": [
    "mu = [a[i].T @ theta_star for i in range(8)]\n",
    "i_star = np.argmax(mu)"
   ]
  },
  {
   "cell_type": "markdown",
   "id": "18799518-5e6e-4be8-a93b-b7c61be5eb2a",
   "metadata": {},
   "source": [
    "### LinUCB"
   ]
  },
  {
   "cell_type": "markdown",
   "id": "cdb3f67d-9052-4dd3-b0ae-d3ff382857d5",
   "metadata": {},
   "source": [
    "まずLinUCBを実装する。実装は以下のようになる。"
   ]
  },
  {
   "cell_type": "code",
   "execution_count": 3,
   "id": "acdbaffd-58e3-4afd-8c23-14d387a43eda",
   "metadata": {},
   "outputs": [],
   "source": [
    "squared_sigma = 1\n",
    "squared_sigma_0 = 1\n",
    "alpha = 0.5\n",
    "inv_A = (squared_sigma_0 / squared_sigma) * np.eye(2) \n",
    "b = np.zeros(2)\n",
    "\n",
    "for loop in range(100):\n",
    "    regret = 0\n",
    "    for t in range(T):\n",
    "        theta_hat = inv_A @ b\n",
    "        mu_bar = []\n",
    "        for i in range(8):\n",
    "            ainv_Aa = a[i].T @ inv_A @ a[i]\n",
    "            mu_bar.append(a[i].T @ theta_hat \n",
    "                + (alpha * np.sqrt(np.log(t + 1))) \n",
    "                          * np.sqrt(squared_sigma) * np.sqrt(ainv_Aa))\n",
    "        i_obj = np.argmax(np.array(mu_bar))\n",
    "        regret += (a[i_star] - a[i_obj]).T @ theta_star\n",
    "        x = np.random.normal(a[i_obj].T @ theta_star, 1)\n",
    "        aa_matrix = a[i_obj].reshape(-1, 1) @ a[i_obj].reshape(-1, 1).T\n",
    "        ainv_Aa = a[i_obj].T @ inv_A @ a[i_obj]\n",
    "        c = inv_A @ aa_matrix @ inv_A\n",
    "        inv_A = inv_A - (c / (1 + ainv_Aa))\n",
    "        b = b + a[i_obj] * x\n",
    "    LinUCB_regret.append(regret)"
   ]
  },
  {
   "cell_type": "markdown",
   "id": "a7f5811c-2aaa-48b6-9721-4d78c9391f03",
   "metadata": {},
   "source": [
    "### トンプソンサンプリング"
   ]
  },
  {
   "cell_type": "markdown",
   "id": "81b6f87f-4893-4305-98e2-08b996188ed4",
   "metadata": {},
   "source": [
    "次にトンプソンサンプリングを実装する。実装は以下のようになる。"
   ]
  },
  {
   "cell_type": "code",
   "execution_count": 4,
   "id": "cc3bd8c2-7998-4a89-9bb1-6125225d966d",
   "metadata": {},
   "outputs": [],
   "source": [
    "squared_sigma = 1\n",
    "squared_sigma_0 = 1\n",
    "inv_A = (squared_sigma_0 / squared_sigma) * np.eye(2) \n",
    "b = np.zeros(2)\n",
    "\n",
    "for loop in range(100):\n",
    "    regret = 0\n",
    "    for t in range(T):\n",
    "        theta_tilde = np.random.multivariate_normal(inv_A @ b, \n",
    "                                                    squared_sigma * inv_A)\n",
    "        mu_bar = []\n",
    "        for i in range(8):\n",
    "            mu_bar.append(a[i].T @ theta_tilde)\n",
    "        i_obj = np.argmax(mu_bar)\n",
    "        regret += (a[i_star] - a[i_obj]).T @ theta_star\n",
    "        x = np.random.normal(a[i_obj].T @ theta_star, 1)\n",
    "        aa_matrix = a[i_obj].reshape(-1, 1) @ a[i_obj].reshape(-1, 1).T\n",
    "        ainv_Aa = a[i_obj].T @ inv_A @ a[i_obj]\n",
    "        c = inv_A @ aa_matrix @ inv_A\n",
    "        inv_A = inv_A - (c / (1 + ainv_Aa))\n",
    "        b = b + a[i_obj] * x\n",
    "    thompson_regret.append(regret)"
   ]
  },
  {
   "cell_type": "markdown",
   "id": "f74629de-3282-48a5-9627-0150786a865e",
   "metadata": {},
   "source": [
    "### まとめ"
   ]
  },
  {
   "cell_type": "markdown",
   "id": "f3830749-1241-4827-bf50-1b6980a82691",
   "metadata": {},
   "source": [
    "以上のより、$T=10000$の時、LinUCBとトンプソンサンプリングを100回試行した時のregretの平均値はそれぞれ、"
   ]
  },
  {
   "cell_type": "code",
   "execution_count": 5,
   "id": "d10c9fc9-0412-4f70-acf8-ff6c47369dd0",
   "metadata": {},
   "outputs": [
    {
     "name": "stdout",
     "output_type": "stream",
     "text": [
      "LinUCB                            :    6.033629277645632\n",
      "トンプソンサンプリングのregretの平均値 :    0.5099372387684071\n"
     ]
    }
   ],
   "source": [
    "print(f\"LinUCBのregretの平均値             :\\\n",
    "    {np.array(LinUCB_regret).mean()}\")\n",
    "print(f\"トンプソンサンプリングのregretの平均値 :\\\n",
    "    {np.array(thompson_regret).mean()}\")"
   ]
  },
  {
   "cell_type": "markdown",
   "id": "fcf2d906-6906-45e8-b452-6ff3a558e2b6",
   "metadata": {},
   "source": [
    "となっている。この結果を見るとLinUCBのregretの平均値はトンプソンサンプリングのregret平均値よりも大きいものになっていることがわかる。"
   ]
  }
 ],
 "metadata": {
  "kernelspec": {
   "display_name": "Python 3 (ipykernel)",
   "language": "python",
   "name": "python3"
  },
  "language_info": {
   "codemirror_mode": {
    "name": "ipython",
    "version": 3
   },
   "file_extension": ".py",
   "mimetype": "text/x-python",
   "name": "python",
   "nbconvert_exporter": "python",
   "pygments_lexer": "ipython3",
   "version": "3.9.12"
  }
 },
 "nbformat": 4,
 "nbformat_minor": 5
}
